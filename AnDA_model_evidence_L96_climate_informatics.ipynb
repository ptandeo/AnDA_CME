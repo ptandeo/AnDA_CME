{
 "cells": [
  {
   "cell_type": "code",
   "execution_count": 4,
   "metadata": {},
   "outputs": [
    {
     "name": "stdout",
     "output_type": "stream",
     "text": [
      "The autoreload extension is already loaded. To reload it, use:\n",
      "  %reload_ext autoreload\n",
      "Populating the interactive namespace from numpy and matplotlib\n"
     ]
    }
   ],
   "source": [
    "%load_ext autoreload\n",
    "%autoreload 2\n",
    "%pylab inline\n",
    "%matplotlib inline\n",
    "pylab.rcParams['figure.figsize'] = (16, 9)\n",
    "\n",
    "# analog data assimilation\n",
    "import sys\n",
    "sys.path.insert(0, '/home/ptandeo/Dropbox/Documents/Codes/Python/AnDA_CME')\n",
    "from AnDA_codes.AnDA_generate_data import AnDA_generate_data\n",
    "from AnDA_codes.AnDA_analog_forecasting import AnDA_analog_forecasting\n",
    "from AnDA_codes.AnDA_model_forecasting import AnDA_model_forecasting\n",
    "from AnDA_codes.AnDA_data_assimilation import AnDA_data_assimilation\n",
    "from AnDA_codes.AnDA_stat_functions import AnDA_RMSE"
   ]
  },
  {
   "cell_type": "code",
   "execution_count": 5,
   "metadata": {
    "collapsed": true
   },
   "outputs": [],
   "source": [
    "F_values = array([6,7,9,10]) # F values of the bad L-96 models\n",
    "nb_analogs = 50 # number of analogs\n",
    "nb_dt = 4 # number of dt for the forecast (nb_dt x 0.05 in L96 times)\n",
    "nb_Ne = 500 # number of ensembles\n",
    "K = 200 # maximum number of times to compute CME\n",
    "N_iter = 10 # number of independant observation sets to get confidence intervals\n",
    "variance_obs = 1 # variance of the observations"
   ]
  },
  {
   "cell_type": "code",
   "execution_count": 23,
   "metadata": {
    "collapsed": true
   },
   "outputs": [],
   "source": [
    "def mooving_average(x, N):\n",
    "    out = np.zeros_like(x, dtype=np.float64)\n",
    "    dim_len = x.shape[0]\n",
    "    for i in range(dim_len):\n",
    "        if N%2 == 0:\n",
    "            a, b = i - (N-1)//2, i + (N-1)//2 + 2\n",
    "        else:\n",
    "            a, b = i - (N-1)//2, i + (N-1)//2 + 1\n",
    "\n",
    "        #cap indices to min and max indices\n",
    "        a = max(0, a)\n",
    "        b = min(dim_len, b)\n",
    "        out[i] = np.mean(x[a:b])\n",
    "    return out\n",
    "\n",
    "def model_evidence(ll_good, ll_bad, K, yo):\n",
    "    out = np.sum((mooving_average(ll_good-ll_bad,K)>0)/len(yo.time)*100)\n",
    "    return out"
   ]
  },
  {
   "cell_type": "code",
   "execution_count": 24,
   "metadata": {},
   "outputs": [
    {
     "name": "stderr",
     "output_type": "stream",
     "text": [
      "100%|██████████| 10000/10000 [03:38<00:00, 45.74it/s]\n"
     ]
    }
   ],
   "source": [
    "# parameters\n",
    "class GD:\n",
    "    model = 'Lorenz_96'\n",
    "    class parameters:\n",
    "        F = 8\n",
    "        J = 40\n",
    "    dt_integration = 0.05 # integration time\n",
    "    dt_states = nb_dt # number of integration times between consecutive states (for xt and catalog)\n",
    "    dt_obs = nb_dt # number of integration times between consecutive observations (for yo)\n",
    "    var_obs = [17,18,19,20,21] # indices of the observed variables\n",
    "    nb_loop_train = 1000*nb_dt # size of the catalog\n",
    "    nb_loop_test = 500*nb_dt # size of the true state and noisy observations\n",
    "    sigma2_catalog = 0.001 # variance of the model error to generate the catalog   \n",
    "    sigma2_obs = variance_obs # variance of the observation error to generate observations    \n",
    "# run the data generation\n",
    "catalog_good, xt, yo = AnDA_generate_data(GD)\n",
    "\n",
    "# keep only a subset of variables\n",
    "catalog_good.analogs = catalog_good.analogs[:,17:22]\n",
    "catalog_good.successors = catalog_good.successors[:,17:22]\n",
    "yo.values = yo.values[:,17:22]\n",
    "n = catalog_good.analogs.shape[1]\n",
    "global_analog_matrix=np.ones([n,n])\n",
    "\n",
    "# parameters of the analog forecasting method\n",
    "class AF:\n",
    "    k = nb_analogs # number of analogs\n",
    "    neighborhood = global_analog_matrix\n",
    "    catalog = catalog_good # catalog with analogs and successors\n",
    "    regression = 'local_linear' # chosen regression ('locally_constant', 'increment', 'local_linear')\n",
    "    sampling = 'gaussian' # chosen sampler ('gaussian', 'multinomial')\n",
    "    kernel = 'tricube'\n",
    "    initialized=False\n",
    "# parameters of the filtering method\n",
    "class DA:\n",
    "    method = 'AnEnKF' # chosen method ('AnEnKF', 'AnEnKS', 'AnPF')\n",
    "    N = nb_Ne # number of members (AnEnKF/AnEnKS) or particles (AnPF)\n",
    "    xb = xt.values[0,17:22]; B = 0.1*np.eye(n)\n",
    "    H = np.eye(n)\n",
    "    R = GD.sigma2_obs*np.eye(n)\n",
    "    @staticmethod\n",
    "    def m(x):\n",
    "        return AnDA_analog_forecasting(x,AF)\n",
    "# run the analog data assimilation\n",
    "x_hat_analog_good = AnDA_data_assimilation(yo, DA)"
   ]
  },
  {
   "cell_type": "code",
   "execution_count": 51,
   "metadata": {},
   "outputs": [
    {
     "name": "stdout",
     "output_type": "stream",
     "text": [
      "[0, 1000]\n",
      "(1000, 5)\n",
      "(10000, 5)\n",
      "6\n"
     ]
    },
    {
     "name": "stderr",
     "output_type": "stream",
     "text": [
      "100%|██████████| 1000/1000 [00:22<00:00, 44.85it/s]\n",
      "/home/ptandeo/anaconda3/lib/python3.6/site-packages/numpy/core/fromnumeric.py:3118: RuntimeWarning: Mean of empty slice.\n",
      "  out=out, **kwargs)\n",
      "/home/ptandeo/anaconda3/lib/python3.6/site-packages/numpy/core/_methods.py:85: RuntimeWarning: invalid value encountered in double_scalars\n",
      "  ret = ret.dtype.type(ret / rcount)\n",
      "/home/ptandeo/anaconda3/lib/python3.6/site-packages/ipykernel_launcher.py:17: RuntimeWarning: invalid value encountered in greater\n"
     ]
    },
    {
     "name": "stdout",
     "output_type": "stream",
     "text": [
      "7\n"
     ]
    },
    {
     "name": "stderr",
     "output_type": "stream",
     "text": [
      "100%|██████████| 1000/1000 [00:24<00:00, 40.24it/s]\n"
     ]
    },
    {
     "name": "stdout",
     "output_type": "stream",
     "text": [
      "9\n"
     ]
    },
    {
     "name": "stderr",
     "output_type": "stream",
     "text": [
      "100%|██████████| 1000/1000 [00:23<00:00, 42.79it/s]\n"
     ]
    },
    {
     "name": "stdout",
     "output_type": "stream",
     "text": [
      "10\n"
     ]
    },
    {
     "name": "stderr",
     "output_type": "stream",
     "text": [
      "100%|██████████| 1000/1000 [00:21<00:00, 46.19it/s]\n"
     ]
    },
    {
     "name": "stdout",
     "output_type": "stream",
     "text": [
      "[1000, 2000]\n",
      "(1000, 5)\n",
      "(10000, 5)\n",
      "6\n"
     ]
    },
    {
     "name": "stderr",
     "output_type": "stream",
     "text": [
      "100%|██████████| 1000/1000 [00:22<00:00, 44.85it/s]\n"
     ]
    },
    {
     "name": "stdout",
     "output_type": "stream",
     "text": [
      "7\n"
     ]
    },
    {
     "name": "stderr",
     "output_type": "stream",
     "text": [
      "100%|██████████| 1000/1000 [00:21<00:00, 46.05it/s]\n"
     ]
    },
    {
     "name": "stdout",
     "output_type": "stream",
     "text": [
      "9\n"
     ]
    },
    {
     "name": "stderr",
     "output_type": "stream",
     "text": [
      "100%|██████████| 1000/1000 [00:22<00:00, 45.00it/s]\n"
     ]
    },
    {
     "name": "stdout",
     "output_type": "stream",
     "text": [
      "10\n"
     ]
    },
    {
     "name": "stderr",
     "output_type": "stream",
     "text": [
      "100%|██████████| 1000/1000 [00:22<00:00, 44.64it/s]\n"
     ]
    },
    {
     "name": "stdout",
     "output_type": "stream",
     "text": [
      "[2000, 3000]\n",
      "(1000, 5)\n",
      "(10000, 5)\n",
      "6\n"
     ]
    },
    {
     "name": "stderr",
     "output_type": "stream",
     "text": [
      "100%|██████████| 1000/1000 [00:24<00:00, 40.52it/s]\n"
     ]
    },
    {
     "name": "stdout",
     "output_type": "stream",
     "text": [
      "7\n"
     ]
    },
    {
     "name": "stderr",
     "output_type": "stream",
     "text": [
      "100%|██████████| 1000/1000 [00:22<00:00, 45.16it/s]\n"
     ]
    },
    {
     "name": "stdout",
     "output_type": "stream",
     "text": [
      "9\n"
     ]
    },
    {
     "name": "stderr",
     "output_type": "stream",
     "text": [
      "100%|██████████| 1000/1000 [00:22<00:00, 44.48it/s]\n"
     ]
    },
    {
     "name": "stdout",
     "output_type": "stream",
     "text": [
      "10\n"
     ]
    },
    {
     "name": "stderr",
     "output_type": "stream",
     "text": [
      "100%|██████████| 1000/1000 [00:22<00:00, 45.05it/s]\n"
     ]
    },
    {
     "name": "stdout",
     "output_type": "stream",
     "text": [
      "[3000, 4000]\n",
      "(1000, 5)\n",
      "(10000, 5)\n",
      "6\n"
     ]
    },
    {
     "name": "stderr",
     "output_type": "stream",
     "text": [
      "100%|██████████| 1000/1000 [00:22<00:00, 44.24it/s]\n"
     ]
    },
    {
     "name": "stdout",
     "output_type": "stream",
     "text": [
      "7\n"
     ]
    },
    {
     "name": "stderr",
     "output_type": "stream",
     "text": [
      "100%|██████████| 1000/1000 [00:22<00:00, 45.14it/s]\n"
     ]
    },
    {
     "name": "stdout",
     "output_type": "stream",
     "text": [
      "9\n"
     ]
    },
    {
     "name": "stderr",
     "output_type": "stream",
     "text": [
      "100%|██████████| 1000/1000 [00:22<00:00, 44.32it/s]\n"
     ]
    },
    {
     "name": "stdout",
     "output_type": "stream",
     "text": [
      "10\n"
     ]
    },
    {
     "name": "stderr",
     "output_type": "stream",
     "text": [
      "100%|██████████| 1000/1000 [00:25<00:00, 39.68it/s]\n"
     ]
    },
    {
     "name": "stdout",
     "output_type": "stream",
     "text": [
      "[4000, 5000]\n",
      "(1000, 5)\n",
      "(10000, 5)\n",
      "6\n"
     ]
    },
    {
     "name": "stderr",
     "output_type": "stream",
     "text": [
      "100%|██████████| 1000/1000 [00:23<00:00, 41.93it/s]\n"
     ]
    },
    {
     "name": "stdout",
     "output_type": "stream",
     "text": [
      "7\n"
     ]
    },
    {
     "name": "stderr",
     "output_type": "stream",
     "text": [
      "100%|██████████| 1000/1000 [00:22<00:00, 45.13it/s]\n"
     ]
    },
    {
     "name": "stdout",
     "output_type": "stream",
     "text": [
      "9\n"
     ]
    },
    {
     "name": "stderr",
     "output_type": "stream",
     "text": [
      "100%|██████████| 1000/1000 [00:24<00:00, 40.01it/s]\n"
     ]
    },
    {
     "name": "stdout",
     "output_type": "stream",
     "text": [
      "10\n"
     ]
    },
    {
     "name": "stderr",
     "output_type": "stream",
     "text": [
      "100%|██████████| 1000/1000 [00:26<00:00, 38.29it/s]\n"
     ]
    },
    {
     "name": "stdout",
     "output_type": "stream",
     "text": [
      "[5000, 6000]\n",
      "(1000, 5)\n",
      "(10000, 5)\n",
      "6\n"
     ]
    },
    {
     "name": "stderr",
     "output_type": "stream",
     "text": [
      "100%|██████████| 1000/1000 [00:26<00:00, 37.41it/s]\n"
     ]
    },
    {
     "name": "stdout",
     "output_type": "stream",
     "text": [
      "7\n"
     ]
    },
    {
     "name": "stderr",
     "output_type": "stream",
     "text": [
      "100%|██████████| 1000/1000 [00:23<00:00, 42.37it/s]\n"
     ]
    },
    {
     "name": "stdout",
     "output_type": "stream",
     "text": [
      "9\n"
     ]
    },
    {
     "name": "stderr",
     "output_type": "stream",
     "text": [
      "100%|██████████| 1000/1000 [00:22<00:00, 44.04it/s]\n"
     ]
    },
    {
     "name": "stdout",
     "output_type": "stream",
     "text": [
      "10\n"
     ]
    },
    {
     "name": "stderr",
     "output_type": "stream",
     "text": [
      "100%|██████████| 1000/1000 [00:23<00:00, 43.35it/s]\n"
     ]
    },
    {
     "name": "stdout",
     "output_type": "stream",
     "text": [
      "[6000, 7000]\n",
      "(1000, 5)\n",
      "(10000, 5)\n",
      "6\n"
     ]
    },
    {
     "name": "stderr",
     "output_type": "stream",
     "text": [
      "100%|██████████| 1000/1000 [00:21<00:00, 45.93it/s]\n"
     ]
    },
    {
     "name": "stdout",
     "output_type": "stream",
     "text": [
      "7\n"
     ]
    },
    {
     "name": "stderr",
     "output_type": "stream",
     "text": [
      "100%|██████████| 1000/1000 [00:21<00:00, 46.27it/s]\n"
     ]
    },
    {
     "name": "stdout",
     "output_type": "stream",
     "text": [
      "9\n"
     ]
    },
    {
     "name": "stderr",
     "output_type": "stream",
     "text": [
      "100%|██████████| 1000/1000 [00:20<00:00, 48.35it/s]\n"
     ]
    },
    {
     "name": "stdout",
     "output_type": "stream",
     "text": [
      "10\n"
     ]
    },
    {
     "name": "stderr",
     "output_type": "stream",
     "text": [
      "100%|██████████| 1000/1000 [00:21<00:00, 46.65it/s]\n"
     ]
    },
    {
     "name": "stdout",
     "output_type": "stream",
     "text": [
      "[7000, 8000]\n",
      "(1000, 5)\n",
      "(10000, 5)\n",
      "6\n"
     ]
    },
    {
     "name": "stderr",
     "output_type": "stream",
     "text": [
      "100%|██████████| 1000/1000 [00:20<00:00, 47.67it/s]\n"
     ]
    },
    {
     "name": "stdout",
     "output_type": "stream",
     "text": [
      "7\n"
     ]
    },
    {
     "name": "stderr",
     "output_type": "stream",
     "text": [
      "100%|██████████| 1000/1000 [00:22<00:00, 43.61it/s]\n"
     ]
    },
    {
     "name": "stdout",
     "output_type": "stream",
     "text": [
      "9\n"
     ]
    },
    {
     "name": "stderr",
     "output_type": "stream",
     "text": [
      "100%|██████████| 1000/1000 [00:22<00:00, 44.16it/s]\n"
     ]
    },
    {
     "name": "stdout",
     "output_type": "stream",
     "text": [
      "10\n"
     ]
    },
    {
     "name": "stderr",
     "output_type": "stream",
     "text": [
      "100%|██████████| 1000/1000 [00:20<00:00, 48.25it/s]\n"
     ]
    },
    {
     "name": "stdout",
     "output_type": "stream",
     "text": [
      "[8000, 9000]\n",
      "(1000, 5)\n",
      "(10000, 5)\n",
      "6\n"
     ]
    },
    {
     "name": "stderr",
     "output_type": "stream",
     "text": [
      "100%|██████████| 1000/1000 [00:21<00:00, 46.54it/s]\n"
     ]
    },
    {
     "name": "stdout",
     "output_type": "stream",
     "text": [
      "7\n"
     ]
    },
    {
     "name": "stderr",
     "output_type": "stream",
     "text": [
      "100%|██████████| 1000/1000 [00:21<00:00, 45.59it/s]\n"
     ]
    },
    {
     "name": "stdout",
     "output_type": "stream",
     "text": [
      "9\n"
     ]
    },
    {
     "name": "stderr",
     "output_type": "stream",
     "text": [
      "100%|██████████| 1000/1000 [00:22<00:00, 44.61it/s]\n"
     ]
    },
    {
     "name": "stdout",
     "output_type": "stream",
     "text": [
      "10\n"
     ]
    },
    {
     "name": "stderr",
     "output_type": "stream",
     "text": [
      "100%|██████████| 1000/1000 [00:22<00:00, 44.60it/s]\n"
     ]
    },
    {
     "name": "stdout",
     "output_type": "stream",
     "text": [
      "[9000, 10000]\n",
      "(1000, 5)\n",
      "(10000, 5)\n",
      "6\n"
     ]
    },
    {
     "name": "stderr",
     "output_type": "stream",
     "text": [
      "100%|██████████| 1000/1000 [00:21<00:00, 47.38it/s]\n"
     ]
    },
    {
     "name": "stdout",
     "output_type": "stream",
     "text": [
      "7\n"
     ]
    },
    {
     "name": "stderr",
     "output_type": "stream",
     "text": [
      "100%|██████████| 1000/1000 [00:21<00:00, 45.91it/s]\n"
     ]
    },
    {
     "name": "stdout",
     "output_type": "stream",
     "text": [
      "9\n"
     ]
    },
    {
     "name": "stderr",
     "output_type": "stream",
     "text": [
      "100%|██████████| 1000/1000 [00:22<00:00, 44.24it/s]\n"
     ]
    },
    {
     "name": "stdout",
     "output_type": "stream",
     "text": [
      "10\n"
     ]
    },
    {
     "name": "stderr",
     "output_type": "stream",
     "text": [
      "100%|██████████| 1000/1000 [00:20<00:00, 48.25it/s]\n"
     ]
    }
   ],
   "source": [
    "class yo_iter:\n",
    "    values = [];\n",
    "    time = [];\n",
    "tab_ME_AnDA = zeros([N_iter,len(F_values),K])\n",
    "for i_iter in range(N_iter):\n",
    "    p_iter = int(np.shape(yo.values)[0]/N_iter)\n",
    "    print([i_iter*p_iter, (i_iter+1)*p_iter])\n",
    "    yo_iter.time = yo.time[i_iter*p_iter:(i_iter+1)*p_iter]\n",
    "    yo_iter.values = yo.values[i_iter*p_iter:(i_iter+1)*p_iter,:]\n",
    "    print(shape(yo_iter.values))\n",
    "    print(shape(yo.values))\n",
    "    for i_F in range(len(F_values)):\n",
    "        print(F_values[i_F])\n",
    "        # parameters\n",
    "        class GD:\n",
    "            model = 'Lorenz_96'\n",
    "            class parameters:\n",
    "                F = F_values[i_F]\n",
    "                J = 40\n",
    "            dt_integration = 0.05 # integration time\n",
    "            dt_states = nb_dt # number of integration times between consecutive states (for xt and catalog)\n",
    "            dt_obs = nb_dt # number of integration times between consecutive observations (for yo)\n",
    "            var_obs = [17,18,19,20,21] # indices of the observed variables\n",
    "            nb_loop_train = 1000*nb_dt # size of the catalog\n",
    "            nb_loop_test = 1 # size of the true state and noisy observations\n",
    "            sigma2_catalog = 0.001 # variance of the model error to generate the catalog   \n",
    "            sigma2_obs = variance_obs # variance of the observation error to generate observations    \n",
    "        # run the data generation\n",
    "        catalog_bad, tej1, tej2 = AnDA_generate_data(GD)\n",
    "        # keep only a subset of variables\n",
    "        catalog_bad.analogs = catalog_bad.analogs[:,17:22]\n",
    "        catalog_bad.successors = catalog_bad.successors[:,17:22]\n",
    "        # parameters of the analog forecasting method\n",
    "        class AF:\n",
    "            k = nb_analogs # number of analogs\n",
    "            neighborhood = global_analog_matrix\n",
    "            catalog = catalog_bad # catalog with analogs and successors\n",
    "            regression = 'local_linear' # chosen regression ('locally_constant', 'increment', 'local_linear')\n",
    "            sampling = 'gaussian' # chosen sampler ('gaussian', 'multinomial')\n",
    "            kernel = 'tricube'\n",
    "            initialized=False\n",
    "        # parameters of the filtering method\n",
    "        class DA:\n",
    "            method = 'AnEnKF' # chosen method ('AnEnKF', 'AnEnKS', 'AnPF')\n",
    "            N = nb_Ne # number of members (AnEnKF/AnEnKS) or particles (AnPF)\n",
    "            xb = xt.values[i_iter*p_iter,17:22]; B = 0.1*np.eye(n)\n",
    "            H = np.eye(n)\n",
    "            R = GD.sigma2_obs*np.eye(n)\n",
    "            @staticmethod\n",
    "            def m(x):\n",
    "                return AnDA_analog_forecasting(x,AF)\n",
    "        # run the analog data assimilation\n",
    "        x_hat_analog_bad = AnDA_data_assimilation(yo_iter, DA)\n",
    "        # compute model evidence\n",
    "        ME_AnDA = zeros(K)\n",
    "        for k in range(K):\n",
    "            ME_AnDA[k] = model_evidence(x_hat_analog_good.loglik_center[i_iter*p_iter:(i_iter+1)*p_iter], x_hat_analog_bad.loglik_center, k, yo_iter)\n",
    "        # stock results\n",
    "        tab_ME_AnDA[i_iter,i_F,:] = ME_AnDA"
   ]
  },
  {
   "cell_type": "code",
   "execution_count": 7,
   "metadata": {},
   "outputs": [
    {
     "data": {
      "image/png": "[encoded data removed]",
      "text/plain": [
       "<matplotlib.figure.Figure at 0x7f90a5e12ef0>"
      ]
     },
     "metadata": {},
     "output_type": "display_data"
    }
   ],
   "source": [
    "# plot model evidence as a function of evidence window\n",
    "for i_F in range(len(F_values)):\n",
    "    line2, = plot(yo.time[0:K], mean(tab_ME_AnDA[:,0,:], 0), 'g')\n",
    "    line3, = plot(yo.time[0:K], mean(tab_ME_AnDA[:,1,:], 0), 'b')\n",
    "    line4, = plot(yo.time[0:K], mean(tab_ME_AnDA[:,2,:], 0), 'r')\n",
    "    line5, = plot(yo.time[0:K], mean(tab_ME_AnDA[:,3,:], 0), 'm')\n",
    "    fill_between(yo.time[0:K], percentile(tab_ME_AnDA[:,0,:], 5, axis=0), percentile(tab_ME_AnDA[:,0,:], 95, axis=0),\n",
    "                 color='g', alpha=.05)\n",
    "    fill_between(yo.time[0:K], percentile(tab_ME_AnDA[:,1,:], 5, axis=0), percentile(tab_ME_AnDA[:,1,:], 95, axis=0),\n",
    "                 color='b', alpha=.05)\n",
    "    fill_between(yo.time[0:K], percentile(tab_ME_AnDA[:,2,:], 5, axis=0), percentile(tab_ME_AnDA[:,2,:], 95, axis=0),\n",
    "                 color='r', alpha=.05)\n",
    "    fill_between(yo.time[0:K], percentile(tab_ME_AnDA[:,3,:], 5, axis=0), percentile(tab_ME_AnDA[:,3,:], 95, axis=0),\n",
    "                 color='m', alpha=.05)\n",
    "                \n",
    "    xlim([yo.time[0],yo.time[K-1]])\n",
    "    ylim([20,105])\n",
    "    leg = legend([line2, line3, line4, line5], ['F=6', 'F=7', 'F=9', 'F=10'], prop={'size': 20}, loc=4)\n",
    "    leg.set_title('Lorenz-96 model:', prop={'size': 20, 'weight': 'heavy'})\n",
    "    xlabel('Evidence window (Lorenz-96 times)', size=25)\n",
    "    ylabel('Contextual model evidence (%)', size=25)\n",
    "    plot(yo.time[0:K], yo.time[0:K]*0+50, '--k', linewidth=2)\n",
    "    title('Analog data assimilation with observations from F=8', size=30)\n",
    "    #savefig('model_evidence_F_6to10_QJRMS.png', bbox_inches='tight', dpi=400)"
   ]
  }
 ],
 "metadata": {
  "kernelspec": {
   "display_name": "Python 3",
   "language": "python",
   "name": "python3"
  },
  "language_info": {
   "codemirror_mode": {
    "name": "ipython",
    "version": 3
   },
   "file_extension": ".py",
   "mimetype": "text/x-python",
   "name": "python",
   "nbconvert_exporter": "python",
   "pygments_lexer": "ipython3",
   "version": "3.6.3"
  }
 },
 "nbformat": 4,
 "nbformat_minor": 2
}
